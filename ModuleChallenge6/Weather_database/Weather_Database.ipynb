{
 "cells": [
  {
   "cell_type": "code",
   "execution_count": 1,
   "metadata": {},
   "outputs": [],
   "source": [
    "from config import api_key\n",
    "import pandas as pd\n",
    "import matplotlib.pyplot as plt\n",
    "import numpy as np\n",
    "from citipy import citipy\n",
    "import requests"
   ]
  },
  {
   "cell_type": "code",
   "execution_count": 2,
   "metadata": {},
   "outputs": [],
   "source": [
    "lats = np.random.uniform(low=-90.000, high=90.000, size=2000)\n",
    "lngs = np.random.uniform(low=-180.000, high=180.000, size=2000)\n",
    "lat_lngs = zip(lats, lngs)\n",
    "coordinates = list(lat_lngs)"
   ]
  },
  {
   "cell_type": "code",
   "execution_count": 3,
   "metadata": {},
   "outputs": [],
   "source": [
    "cities = []\n",
    "for coordinate in coordinates:\n",
    "    city = citipy.nearest_city(coordinate[0], coordinate[1]).city_name\n",
    "\n",
    "    # If the city is unique, then we will add it to the cities list.\n",
    "    if city not in cities:\n",
    "        cities.append(city)"
   ]
  },
  {
   "cell_type": "code",
   "execution_count": 4,
   "metadata": {},
   "outputs": [
    {
     "data": {
      "text/plain": [
       "768"
      ]
     },
     "execution_count": 4,
     "metadata": {},
     "output_type": "execute_result"
    }
   ],
   "source": [
    "len(cities)"
   ]
  },
  {
   "cell_type": "code",
   "execution_count": 5,
   "metadata": {},
   "outputs": [],
   "source": [
    "url = \"http://api.openweathermap.org/data/2.5/weather?units=Imperial&APPID=\" + api_key "
   ]
  },
  {
   "cell_type": "code",
   "execution_count": 24,
   "metadata": {},
   "outputs": [
    {
     "name": "stdout",
     "output_type": "stream",
     "text": [
      "City not found, skipping...\n"
     ]
    }
   ],
   "source": [
    "city_data = []\n",
    "for city in cities[:15]:\n",
    "    try:\n",
    "        city_url = url + \"&q=\" + city\n",
    "        city_weather = requests.get(city_url)\n",
    "        json = city_weather.json()\n",
    "        city_data.append({\n",
    "            'City' : json['name'],\n",
    "            'Country' : json['sys']['country'],\n",
    "            'Lat' : json['coord']['lat'],\n",
    "            'Lng' : json['coord']['lon'],\n",
    "            'Max Temp' : json['main']['temp_max'],\n",
    "            'Humidity' : json['main']['humidity'],\n",
    "            'Cloudiness' : json['clouds']['all'],\n",
    "            'Wind Speed' : json['wind']['speed'],\n",
    "            'Current Description' : json['weather'][0]['description']\n",
    "        })\n",
    "\n",
    "    except:\n",
    "        print('City not found, skipping...')"
   ]
  },
  {
   "cell_type": "code",
   "execution_count": 27,
   "metadata": {},
   "outputs": [],
   "source": [
    "list_of_dictionaries = [{\n",
    "    'City' : 'Los Angeles',\n",
    "    'Country' : 'US',\n",
    "    'Lat' : '10',\n",
    "    'Lng' : '15',\n",
    "    'Max Temp' : '80',\n",
    "    'Humidity' : '15',\n",
    "    'Cloudiness' : '15',\n",
    "    'Wind Speed' : '5',\n",
    "    'Current Description' : 'This is a city'\n",
    "},\n",
    "{\n",
    "    'City' : 'Atlanta',\n",
    "    'Country' : 'US',\n",
    "    'Lat' : '10',\n",
    "    'Lng' : '15',\n",
    "    'Max Temp' : '80',\n",
    "    'Humidity' : '15',\n",
    "    'Cloudiness' : '15',\n",
    "    'Wind Speed' : '5',\n",
    "    'Current Description' : 'This is a city'\n",
    "},\n",
    "{\n",
    "    'City' : 'Washington',\n",
    "    'Country' : 'US',\n",
    "    'Lat' : '10',\n",
    "    'Lng' : '15',\n",
    "    'Max Temp' : '80',\n",
    "    'Humidity' : '15',\n",
    "    'Cloudiness' : '15',\n",
    "    'Wind Speed' : '5',\n",
    "    'Current Description' : 'This is a city'\n",
    "}]"
   ]
  },
  {
   "cell_type": "code",
   "execution_count": 29,
   "metadata": {},
   "outputs": [
    {
     "data": {
      "text/html": [
       "<div>\n",
       "<style scoped>\n",
       "    .dataframe tbody tr th:only-of-type {\n",
       "        vertical-align: middle;\n",
       "    }\n",
       "\n",
       "    .dataframe tbody tr th {\n",
       "        vertical-align: top;\n",
       "    }\n",
       "\n",
       "    .dataframe thead th {\n",
       "        text-align: right;\n",
       "    }\n",
       "</style>\n",
       "<table border=\"1\" class=\"dataframe\">\n",
       "  <thead>\n",
       "    <tr style=\"text-align: right;\">\n",
       "      <th></th>\n",
       "      <th>City</th>\n",
       "      <th>Country</th>\n",
       "      <th>Lat</th>\n",
       "      <th>Lng</th>\n",
       "      <th>Max Temp</th>\n",
       "      <th>Humidity</th>\n",
       "      <th>Cloudiness</th>\n",
       "      <th>Wind Speed</th>\n",
       "      <th>Current Description</th>\n",
       "    </tr>\n",
       "  </thead>\n",
       "  <tbody>\n",
       "    <tr>\n",
       "      <th>0</th>\n",
       "      <td>Los Angeles</td>\n",
       "      <td>US</td>\n",
       "      <td>10</td>\n",
       "      <td>15</td>\n",
       "      <td>80</td>\n",
       "      <td>15</td>\n",
       "      <td>15</td>\n",
       "      <td>5</td>\n",
       "      <td>This is a city</td>\n",
       "    </tr>\n",
       "    <tr>\n",
       "      <th>1</th>\n",
       "      <td>Atlanta</td>\n",
       "      <td>US</td>\n",
       "      <td>10</td>\n",
       "      <td>15</td>\n",
       "      <td>80</td>\n",
       "      <td>15</td>\n",
       "      <td>15</td>\n",
       "      <td>5</td>\n",
       "      <td>This is a city</td>\n",
       "    </tr>\n",
       "    <tr>\n",
       "      <th>2</th>\n",
       "      <td>Washington</td>\n",
       "      <td>US</td>\n",
       "      <td>10</td>\n",
       "      <td>15</td>\n",
       "      <td>80</td>\n",
       "      <td>15</td>\n",
       "      <td>15</td>\n",
       "      <td>5</td>\n",
       "      <td>This is a city</td>\n",
       "    </tr>\n",
       "  </tbody>\n",
       "</table>\n",
       "</div>"
      ],
      "text/plain": [
       "          City Country Lat Lng Max Temp Humidity Cloudiness Wind Speed  \\\n",
       "0  Los Angeles      US  10  15       80       15         15          5   \n",
       "1      Atlanta      US  10  15       80       15         15          5   \n",
       "2   Washington      US  10  15       80       15         15          5   \n",
       "\n",
       "  Current Description  \n",
       "0      This is a city  \n",
       "1      This is a city  \n",
       "2      This is a city  "
      ]
     },
     "execution_count": 29,
     "metadata": {},
     "output_type": "execute_result"
    }
   ],
   "source": [
    "pd.DataFrame(list_of_dictionaries)"
   ]
  },
  {
   "cell_type": "code",
   "execution_count": null,
   "metadata": {},
   "outputs": [],
   "source": []
  },
  {
   "cell_type": "code",
   "execution_count": 25,
   "metadata": {},
   "outputs": [],
   "source": [
    "df = pd.DataFrame(l)"
   ]
  },
  {
   "cell_type": "code",
   "execution_count": 26,
   "metadata": {},
   "outputs": [
    {
     "data": {
      "text/html": [
       "<div>\n",
       "<style scoped>\n",
       "    .dataframe tbody tr th:only-of-type {\n",
       "        vertical-align: middle;\n",
       "    }\n",
       "\n",
       "    .dataframe tbody tr th {\n",
       "        vertical-align: top;\n",
       "    }\n",
       "\n",
       "    .dataframe thead th {\n",
       "        text-align: right;\n",
       "    }\n",
       "</style>\n",
       "<table border=\"1\" class=\"dataframe\">\n",
       "  <thead>\n",
       "    <tr style=\"text-align: right;\">\n",
       "      <th></th>\n",
       "      <th>City</th>\n",
       "      <th>Country</th>\n",
       "      <th>Lat</th>\n",
       "      <th>Lng</th>\n",
       "      <th>Max Temp</th>\n",
       "      <th>Humidity</th>\n",
       "      <th>Cloudiness</th>\n",
       "      <th>Wind Speed</th>\n",
       "      <th>Current Description</th>\n",
       "    </tr>\n",
       "  </thead>\n",
       "  <tbody>\n",
       "    <tr>\n",
       "      <th>0</th>\n",
       "      <td>Rikitea</td>\n",
       "      <td>PF</td>\n",
       "      <td>-23.1203</td>\n",
       "      <td>-134.9692</td>\n",
       "      <td>77.63</td>\n",
       "      <td>71</td>\n",
       "      <td>31</td>\n",
       "      <td>3.49</td>\n",
       "      <td>light rain</td>\n",
       "    </tr>\n",
       "    <tr>\n",
       "      <th>1</th>\n",
       "      <td>Nanchong</td>\n",
       "      <td>CN</td>\n",
       "      <td>30.7951</td>\n",
       "      <td>106.0847</td>\n",
       "      <td>39.87</td>\n",
       "      <td>80</td>\n",
       "      <td>100</td>\n",
       "      <td>23.55</td>\n",
       "      <td>light rain</td>\n",
       "    </tr>\n",
       "    <tr>\n",
       "      <th>2</th>\n",
       "      <td>Fortuna</td>\n",
       "      <td>US</td>\n",
       "      <td>40.5982</td>\n",
       "      <td>-124.1573</td>\n",
       "      <td>48.00</td>\n",
       "      <td>100</td>\n",
       "      <td>90</td>\n",
       "      <td>4.61</td>\n",
       "      <td>overcast clouds</td>\n",
       "    </tr>\n",
       "    <tr>\n",
       "      <th>3</th>\n",
       "      <td>Hobart</td>\n",
       "      <td>AU</td>\n",
       "      <td>-42.8794</td>\n",
       "      <td>147.3294</td>\n",
       "      <td>50.00</td>\n",
       "      <td>53</td>\n",
       "      <td>40</td>\n",
       "      <td>17.27</td>\n",
       "      <td>scattered clouds</td>\n",
       "    </tr>\n",
       "    <tr>\n",
       "      <th>4</th>\n",
       "      <td>Bombon</td>\n",
       "      <td>PH</td>\n",
       "      <td>13.6887</td>\n",
       "      <td>123.2077</td>\n",
       "      <td>76.95</td>\n",
       "      <td>85</td>\n",
       "      <td>100</td>\n",
       "      <td>11.56</td>\n",
       "      <td>overcast clouds</td>\n",
       "    </tr>\n",
       "  </tbody>\n",
       "</table>\n",
       "</div>"
      ],
      "text/plain": [
       "       City Country      Lat       Lng  Max Temp  Humidity  Cloudiness  \\\n",
       "0   Rikitea      PF -23.1203 -134.9692     77.63        71          31   \n",
       "1  Nanchong      CN  30.7951  106.0847     39.87        80         100   \n",
       "2   Fortuna      US  40.5982 -124.1573     48.00       100          90   \n",
       "3    Hobart      AU -42.8794  147.3294     50.00        53          40   \n",
       "4    Bombon      PH  13.6887  123.2077     76.95        85         100   \n",
       "\n",
       "   Wind Speed Current Description  \n",
       "0        3.49          light rain  \n",
       "1       23.55          light rain  \n",
       "2        4.61     overcast clouds  \n",
       "3       17.27    scattered clouds  \n",
       "4       11.56     overcast clouds  "
      ]
     },
     "execution_count": 26,
     "metadata": {},
     "output_type": "execute_result"
    }
   ],
   "source": [
    "df.head()"
   ]
  },
  {
   "cell_type": "code",
   "execution_count": 76,
   "metadata": {},
   "outputs": [],
   "source": [
    "df.to_csv('WeatherPy_Database.csv')"
   ]
  },
  {
   "cell_type": "markdown",
   "metadata": {},
   "source": [
    "## Deliverable 2"
   ]
  },
  {
   "cell_type": "code",
   "execution_count": null,
   "metadata": {},
   "outputs": [],
   "source": []
  }
 ],
 "metadata": {
  "kernelspec": {
   "display_name": "Python 3",
   "language": "python",
   "name": "python3"
  },
  "language_info": {
   "codemirror_mode": {
    "name": "ipython",
    "version": 3
   },
   "file_extension": ".py",
   "mimetype": "text/x-python",
   "name": "python",
   "nbconvert_exporter": "python",
   "pygments_lexer": "ipython3",
   "version": "3.8.5"
  }
 },
 "nbformat": 4,
 "nbformat_minor": 4
}
